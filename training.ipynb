{
 "cells": [
  {
   "cell_type": "code",
   "execution_count": 5,
   "metadata": {},
   "outputs": [
    {
     "name": "stdout",
     "output_type": "stream",
     "text": [
      "data/data.csv\n",
      "Accuracy(coefficient of determination) -->  73.86197473794775 %\n",
      "Accuracy(coefficient of determination) -->  90.23618438674329 %\n",
      "Accuracy(coefficient of determination) -->  90.58652976887062 %\n"
     ]
    }
   ],
   "source": [
    "import numpy as np\n",
    "import pandas as pd\n",
    "from sklearn.model_selection import train_test_split\n",
    "\n",
    "from sklearn.preprocessing import LabelEncoder\n",
    "from sklearn import linear_model\n",
    "from sklearn.ensemble import RandomForestRegressor\n",
    "from sklearn.ensemble import GradientBoostingRegressor\n",
    "\n",
    "class apts_predict():\n",
    "    def __init__(self, path_read):\n",
    "        self.path_read= path_read\n",
    "        #from analysis, these futres are selected\n",
    "        self.cols= ['price',\n",
    "                    'area',\n",
    "                    'common_charges',\n",
    "                    'num_bathrooms',\n",
    "                    'num_bedrooms',\n",
    "                    'num_rooms']              \n",
    "        \n",
    "    def read_data(self, path_read):\n",
    "        df= pd.read_csv(path_read)\n",
    "\n",
    "        print( path_read )\n",
    "        return df\n",
    "\n",
    "    def fix_missing_data(self, df):\n",
    "        df= df[ df['price'].notnull() ]\n",
    "        df= df[self.cols]\n",
    "        df= df.fillna( df.median() )\n",
    "        return df\n",
    "\n",
    "    def encoder(self, df):\n",
    "        cols= df.columns.tolist()\n",
    "        for c in cols:\n",
    "            lbl = LabelEncoder() \n",
    "            lbl.fit(list(df[c].values)) \n",
    "            df[c] = lbl.transform(list(df[c].values))\n",
    "        return df\n",
    "\n",
    "    def generateXy(self, df, y_label):\n",
    "        y = df[y_label].values\n",
    "        \n",
    "        del df[y_label]\n",
    "        X = df.values\n",
    "        \n",
    "        return X, y\n",
    "    \n",
    "    def model_prediction(self, model, X_train, X_test, y_train, y_test):\n",
    "        model.fit(X_train, y_train)\n",
    "        print(\"Accuracy(coefficient of determination) --> \", model.score(X_test, y_test)*100, \"%\")\n",
    "        return model      \n",
    "\n",
    "    def pipeline(self):\n",
    "        df= self.read_data(path_read)\n",
    "        df= self.fix_missing_data(df)\n",
    "        df= self.encoder(df)\n",
    "        \n",
    "        X,y= self.generateXy(df, 'price')\n",
    "\n",
    "        X_train, X_test, y_train, y_test = train_test_split(X, y, test_size=0.2, random_state=7)\n",
    "\n",
    "        lr = linear_model.LinearRegression()\n",
    "        self.model_prediction( lr, X_train, X_test, y_train, y_test)\n",
    "\n",
    "        rf = RandomForestRegressor(n_estimators=1000)\n",
    "        self.model_prediction( rf, X_train, X_test, y_train, y_test )\n",
    "\n",
    "        GBR = GradientBoostingRegressor(n_estimators=100, max_depth=4)\n",
    "        self.model_prediction( GBR, X_train, X_test, y_train, y_test )\n",
    "        \n",
    "path_read= 'data/data.csv'\n",
    "apts_predict(path_read).pipeline()"
   ]
  },
  {
   "cell_type": "code",
   "execution_count": null,
   "metadata": {},
   "outputs": [],
   "source": []
  },
  {
   "cell_type": "code",
   "execution_count": null,
   "metadata": {},
   "outputs": [],
   "source": []
  },
  {
   "cell_type": "code",
   "execution_count": null,
   "metadata": {},
   "outputs": [],
   "source": []
  }
 ],
 "metadata": {
  "kernelspec": {
   "display_name": "Python 3",
   "language": "python",
   "name": "python3"
  },
  "language_info": {
   "codemirror_mode": {
    "name": "ipython",
    "version": 3
   },
   "file_extension": ".py",
   "mimetype": "text/x-python",
   "name": "python",
   "nbconvert_exporter": "python",
   "pygments_lexer": "ipython3",
   "version": "3.6.5"
  }
 },
 "nbformat": 4,
 "nbformat_minor": 2
}
